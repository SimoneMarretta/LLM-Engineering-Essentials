{
  "cells": [
    {
      "cell_type": "markdown",
      "metadata": {
        "colab_type": "text",
        "id": "view-in-github"
      },
      "source": [
        "<a href=\"https://colab.research.google.com/github/Nebius-Academy/LLM-Engineering-Essentials/blob/main/topic1/1.1_intro_to_llm_apis.ipynb\" target=\"_parent\"><img src=\"https://colab.research.google.com/assets/colab-badge.svg\" alt=\"Open In Colab\"/></a>"
      ]
    },
    {
      "cell_type": "markdown",
      "metadata": {
        "id": "4Dz_jOLTr-EA"
      },
      "source": [
        "# LLM Engineering Essentials by Nebius Academy\n",
        "\n",
        "Course github: [link](https://github.com/Nebius-Academy/LLM-Engineering-Essentials/tree/main)\n",
        "\n",
        "The course is in development now, with more materials coming soon. [Subscribe to stay updated](https://academy.nebius.com/llm-engineering-essentials/update/)\n",
        "\n",
        "# 1.1. Intro to LLM APIs\n",
        "\n",
        "In this notebook, we'll start exploring LLMs and LLM APIs, their capabilities and their failures. After working with it, you'll be able to call APIs of LLMs and Multimodal LLMs such as GPT-4o, Llama-3.1-8B, Qwen2-VL-72B, and many more.\n",
        "\n",
        "# The first step: getting API keys\n",
        "\n",
        "Mostly we'll use the API of [**Nebius AI Studio**](https://qrco.de/naaistudio): This platform offers open-source LLMs from families such as Llama, Mistral, Qwen, and Gemma. Generate your API key here: [Nebius API Keys](https://studio.nebius.ai/settings/api-keys) (this page will only be available after you register).\n",
        "\n",
        "However, in some examples we'll also check **OpenAI** API (https://platform.openai.com/), which provides access to GPT models like GPT-4. You can generate an API key here: [OpenAI API Keys](https://platform.openai.com/settings/organization/api-keys) (this page will only be available after you register).\n",
        "\n",
        "An API key is just a string (usually, a long one). Each platform will only show you your API key once when it’s generated, so be sure to copy it and save it securely. If you lose your API key, you'll be able to generate a new one (but in this case, don't forget to invalidate the old one on a platform).\n",
        "To set up for the class, please\n",
        "\n",
        "* Save the Nebius API key in a file named `nebius_api_key` (also no file extension).\n",
        "* Save the OpenAI API key in a file named `openai_api_key` (no file extension).\n",
        "* Then load them both to colab.\n",
        "\n",
        "We aim to explore close-to-production use of LLMs, so we start with APIs, but of course every LLM has its own playground:\n",
        "\n",
        "- Nebius AI Studio's playground is here: https://studio.nebius.ai/playground.\n",
        "- Feel free to play with OpenAI models here: https://chatgpt.com/."
      ]
    },
    {
      "cell_type": "markdown",
      "metadata": {
        "id": "sCfPrgrPvyNW"
      },
      "source": [
        "# **Setting up the environment**"
      ]
    },
    {
      "cell_type": "code",
      "execution_count": 6,
      "metadata": {},
      "outputs": [],
      "source": [
        "import openai"
      ]
    },
    {
      "cell_type": "markdown",
      "metadata": {
        "id": "lcDYcNnDE53t"
      },
      "source": [
        "You'll need to upload the API keys to your current Jupyter directory. If you're running Jupyter on your own Linux machine, you can check which directory it is by running `!pwd`"
      ]
    },
    {
      "cell_type": "markdown",
      "metadata": {
        "id": "LC_HCxoEMfrA"
      },
      "source": [
        "## Nebius API\n",
        "\n",
        "Nebius AI Studio serves several families of open source LLMs, including: Llama, Qwen, DeepSeek, Gemma, Mistral, Phi, and others.\n",
        "\n",
        "\n",
        "### The client and the model\n",
        "\n",
        "First of all, you need to define:\n",
        "\n",
        "* **client**, which in case of Nebius AI Studio is\n",
        "\n",
        "  ```\n",
        "  client = OpenAI(\n",
        "      base_url=\"https://api.studio.nebius.ai/v1/\",\n",
        "      api_key=os.environ.get(\"NEBIUS_API_KEY\"),\n",
        "  )\n",
        "  ```\n",
        "\n",
        "* **model**, that is the particular LLM we want to use. You can find more details about models, their pricing and other parameters [here](https://studio.nebius.ai/models).\n",
        "\n",
        "  To get the right model name for the API call, press the small \"copy\" button at the top right corner of a model card:\n",
        "\n",
        "  <center>\n",
        "  <img src=\"https://drive.google.com/uc?export=view&id=1w9IkQ4hmwqFqYbLiXlu0iNIfm2l7Vrem\" width=1000 />\n",
        "  </center>\n",
        "\n",
        "  For example, **Llama-3.3-70B** should be called using `model = \"meta-llama/Llama-3.3-70B-Instruct\"`.\n",
        "\n",
        "### Prompt and completion\n",
        "\n",
        "The text passed to an LLM is usually called a **prompt** and the LLM's output is known as **completion** (or response).\n",
        "\n",
        "Let's make a simple API call to illustrate this:"
      ]
    },
    {
      "cell_type": "code",
      "execution_count": 7,
      "metadata": {
        "id": "B8G23FVBN0Vc"
      },
      "outputs": [
        {
          "name": "stdout",
          "output_type": "stream",
          "text": [
            "The bug in the provided QuickSort implementation lies in how the `right` partition is handled, specifically when the pivot element itself is included in the `right` sub-array.\n",
            "\n",
            "**The Bug Explained:**\n",
            "\n",
            "1.  **Pivot Selection:** `pivot = arr[0]`\n",
            "2.  **Partitioning:**\n",
            "    *   `left = [x for x in arr if x < pivot]` (elements strictly less than pivot)\n",
            "    *   `right = [x for x in arr if x >= pivot]` (elements greater than or **equal to** pivot)\n",
            "3.  **Recursive Call:** `return quicksort(left) + [pivot] + quicksort(right)`\n",
            "\n",
            "If `arr[0]` (the pivot) is the *smallest* element in the array, or if there are no elements smaller than `arr[0]` (e.g., an already sorted array), then `left` will be empty. The `right` partition will contain all elements, *including the pivot itself*. When `quicksort(right)` is called, the pivot will again be `arr[0]` (which is the same pivot element as before), and this will lead to an infinite recursion (or a `RecursionError` in Python) because the `right` sub-problem is not getting any smaller relative to its first element.\n",
            "\n",
            "**Example Trace of the Bug:**\n",
            "\n",
            "Let `arr = [3, 1, 4, 2]`\n",
            "\n",
            "1.  `quicksort([3, 1, 4, 2])`\n",
            "    *   `pivot = 3`\n",
            "    *   `left = [1, 2]`\n",
            "    *   `right = [3, 4]` (Notice `3` is in `right`)\n",
            "    *   `return quicksort([1, 2]) + [3] + quicksort([3, 4])`\n",
            "\n",
            "2.  Now, consider `quicksort([3, 4])`:\n",
            "    *   `pivot = 3`\n",
            "    *   `left = []`\n",
            "    *   `right = [3, 4]` (Again, `3` is in `right`)\n",
            "    *   `return quicksort([]) + [3] + quicksort([3, 4])`\n",
            "\n",
            "This `quicksort([3, 4])` will endlessly call itself with the same `[3, 4]` array, leading to a `RecursionError`.\n",
            "\n",
            "**The Correction:**\n",
            "\n",
            "The pivot element should *not* be included in either the `left` or `right` sub-arrays passed to the recursive calls. Instead, it should be treated as a separate \"middle\" part, placed directly between the sorted `left` and `right` parts.\n",
            "\n",
            "**Corrected Code:**\n",
            "\n",
            "```python\n",
            "def quicksort(arr):\n",
            "    if len(arr) <= 1:\n",
            "        return arr\n",
            "    \n",
            "    pivot = arr[0] # Choosing the first element as pivot\n",
            "    \n",
            "    # Partitioning the array into three parts:\n",
            "    # 1. Elements strictly less than the pivot\n",
            "    # 2. Elements equal to the pivot\n",
            "    # 3. Elements strictly greater than the pivot\n",
            "    left = [x for x in arr if x < pivot]\n",
            "    middle = [x for x in arr if x == pivot] # New: elements equal to pivot\n",
            "    right = [x for x in arr if x > pivot]   # Changed: elements *strictly greater* than pivot\n",
            "    \n",
            "    # Recursively sort the left and right sub-arrays,\n",
            "    # and then concatenate them with the 'middle' (pivot(s)) in between.\n",
            "    return quicksort(left) + middle + quicksort(right)\n",
            "\n",
            "```\n"
          ]
        }
      ],
      "source": [
        "import os\n",
        "from openai import OpenAI\n",
        "from dotenv import load_dotenv\n",
        "\n",
        "load_dotenv()\n",
        "\n",
        "# Create a client pointing to Google Gemini's OpenAI-compatible endpoint\n",
        "client = OpenAI(\n",
        "    api_key=os.environ.get(\"GEMINI_API_KEY\"),  # put this in your .env\n",
        "    base_url=\"https://generativelanguage.googleapis.com/v1beta/openai/\"\n",
        ")\n",
        "\n",
        "# Use the latest Gemini 2.5 Flash model\n",
        "model = \"gemini-2.5-flash\"\n",
        "\n",
        "completion = client.chat.completions.create(\n",
        "    model=model,\n",
        "    messages=[\n",
        "        {\n",
        "            \"role\": \"user\",\n",
        "            \"content\": \"\"\"The following Python implementation of the QuickSort algorithm contains a bug.\n",
        "                          Find the bug and correct the code:\n",
        "                          def quicksort(arr):\n",
        "                              if len(arr) <= 1:\n",
        "                                  return arr\n",
        "                              pivot = arr[0]\n",
        "                              left = [x for x in arr if x < pivot]\n",
        "                              right = [x for x in arr if x >= pivot]\n",
        "                              return quicksort(left) + [pivot] + quicksort(right)\n",
        "                          \"\"\"\n",
        "        }\n",
        "    ],\n",
        ")\n",
        "\n",
        "print(completion.choices[0].message.content)\n"
      ]
    },
    {
      "cell_type": "markdown",
      "metadata": {
        "id": "SRP-mqAIOARi"
      },
      "source": [
        "The `completion` variable contains much information; to extract only the completion. The answer itself is `completion.choices[0].message.content`:"
      ]
    },
    {
      "cell_type": "code",
      "execution_count": 8,
      "metadata": {
        "colab": {
          "base_uri": "https://localhost:8080/"
        },
        "id": "4-K4JFIrOARi",
        "outputId": "458bcded-6168-4ad2-f866-e106264e33bc"
      },
      "outputs": [
        {
          "name": "stdout",
          "output_type": "stream",
          "text": [
            "The bug in the provided QuickSort implementation lies in how the `right` partition is handled, specifically when the pivot element itself is included in the `right` sub-array.\n",
            "\n",
            "**The Bug Explained:**\n",
            "\n",
            "1.  **Pivot Selection:** `pivot = arr[0]`\n",
            "2.  **Partitioning:**\n",
            "    *   `left = [x for x in arr if x < pivot]` (elements strictly less than pivot)\n",
            "    *   `right = [x for x in arr if x >= pivot]` (elements greater than or **equal to** pivot)\n",
            "3.  **Recursive Call:** `return quicksort(left) + [pivot] + quicksort(right)`\n",
            "\n",
            "If `arr[0]` (the pivot) is the *smallest* element in the array, or if there are no elements smaller than `arr[0]` (e.g., an already sorted array), then `left` will be empty. The `right` partition will contain all elements, *including the pivot itself*. When `quicksort(right)` is called, the pivot will again be `arr[0]` (which is the same pivot element as before), and this will lead to an infinite recursion (or a `RecursionError` in Python) because the `right` sub-problem is not getting any smaller relative to its first element.\n",
            "\n",
            "**Example Trace of the Bug:**\n",
            "\n",
            "Let `arr = [3, 1, 4, 2]`\n",
            "\n",
            "1.  `quicksort([3, 1, 4, 2])`\n",
            "    *   `pivot = 3`\n",
            "    *   `left = [1, 2]`\n",
            "    *   `right = [3, 4]` (Notice `3` is in `right`)\n",
            "    *   `return quicksort([1, 2]) + [3] + quicksort([3, 4])`\n",
            "\n",
            "2.  Now, consider `quicksort([3, 4])`:\n",
            "    *   `pivot = 3`\n",
            "    *   `left = []`\n",
            "    *   `right = [3, 4]` (Again, `3` is in `right`)\n",
            "    *   `return quicksort([]) + [3] + quicksort([3, 4])`\n",
            "\n",
            "This `quicksort([3, 4])` will endlessly call itself with the same `[3, 4]` array, leading to a `RecursionError`.\n",
            "\n",
            "**The Correction:**\n",
            "\n",
            "The pivot element should *not* be included in either the `left` or `right` sub-arrays passed to the recursive calls. Instead, it should be treated as a separate \"middle\" part, placed directly between the sorted `left` and `right` parts.\n",
            "\n",
            "**Corrected Code:**\n",
            "\n",
            "```python\n",
            "def quicksort(arr):\n",
            "    if len(arr) <= 1:\n",
            "        return arr\n",
            "    \n",
            "    pivot = arr[0] # Choosing the first element as pivot\n",
            "    \n",
            "    # Partitioning the array into three parts:\n",
            "    # 1. Elements strictly less than the pivot\n",
            "    # 2. Elements equal to the pivot\n",
            "    # 3. Elements strictly greater than the pivot\n",
            "    left = [x for x in arr if x < pivot]\n",
            "    middle = [x for x in arr if x == pivot] # New: elements equal to pivot\n",
            "    right = [x for x in arr if x > pivot]   # Changed: elements *strictly greater* than pivot\n",
            "    \n",
            "    # Recursively sort the left and right sub-arrays,\n",
            "    # and then concatenate them with the 'middle' (pivot(s)) in between.\n",
            "    return quicksort(left) + middle + quicksort(right)\n",
            "\n",
            "```\n"
          ]
        }
      ],
      "source": [
        "print(completion.choices[0].message.content)"
      ]
    },
    {
      "cell_type": "markdown",
      "metadata": {
        "id": "EEdDlUxLN9B1"
      },
      "source": [
        "The `\"usage\"` dictionary stores token statistics that can be used to estimate the generation cost. You can check LLM pricing details in their model cards. As for February 18th, 2025, for the **Llama-3.1-8B** model you'd pay:\n",
        "\n",
        "* \\$0.13 / 1M (million) input (prompt) tokens,\n",
        "* \\$0.5 / 1M output (completion) tokens.\n",
        "\n",
        "Let's calculate the price for our example:"
      ]
    },
    {
      "cell_type": "code",
      "execution_count": 9,
      "metadata": {
        "colab": {
          "base_uri": "https://localhost:8080/"
        },
        "id": "VhAIuWmXN0YX",
        "outputId": "5e409f49-4578-4dcf-9825-5f19d7351247"
      },
      "outputs": [
        {
          "data": {
            "text/plain": [
              "0.00041227999999999995"
            ]
          },
          "execution_count": 9,
          "metadata": {},
          "output_type": "execute_result"
        }
      ],
      "source": [
        "(completion.usage.prompt_tokens * 0.13 + completion.usage.completion_tokens * 0.5) / (10**6)"
      ]
    },
    {
      "cell_type": "markdown",
      "metadata": {
        "id": "QBqiE3l1OhUE"
      },
      "source": [
        "Which is way less than 1 cent.\n",
        "\n",
        "The prompt and completion length are indicated in **tokens**, which are usually word pieces. We'll discuss tokenization later this week."
      ]
    },
    {
      "cell_type": "markdown",
      "metadata": {
        "id": "cTHPnBMRO0dr"
      },
      "source": [
        "### Dialog roles\n",
        "\n",
        "The `messages` object you pass to the LLM API is a dictionary with fields `\"content\"` and `\"role\"`. Roles may be:\n",
        "\n",
        "- `\"user\"`, that's you.\n",
        "- `\"assistant\"`, a model's cue.\n",
        "- `\"system\"` used to pass our wishes regarding the assistant's tone of voice, restrictions etc.\n",
        "\n",
        "So, a dialog between a user and an LLM may look like:\n",
        "\n",
        "```\n",
        "messages=[\n",
        "        {\n",
        "            \"role\": \"system\",\n",
        "            \"content\": <system prompt>\n",
        "        },\n",
        "        {\n",
        "            \"role\": \"user\",\n",
        "            \"content\": <user's first line>\n",
        "        },\n",
        "        {\n",
        "            \"role\": \"assistant\"\n",
        "            \"content\": <LLM's answer>\n",
        "        },\n",
        "        {\n",
        "            \"role\": \"user\"\n",
        "            \"content\": <user's second line>\n",
        "        }\n",
        "    ]\n",
        "```\n",
        "\n",
        "Let's look at an example:"
      ]
    },
    {
      "cell_type": "code",
      "execution_count": 10,
      "metadata": {
        "colab": {
          "base_uri": "https://localhost:8080/",
          "height": 191
        },
        "id": "KUqAm02vN0a9",
        "outputId": "1e028916-5647-41a3-858a-7cccf2cfebcc"
      },
      "outputs": [
        {
          "data": {
            "text/plain": [
              "'That\\'s like asking who\\'s a cooler classic rock band: Led Zeppelin or Nirvana! Both are legendary in their own right, but they offer completely different experiences.\\n\\nThe \"cooler\" writer really depends on what *you* find cool in fantasy.\\n\\nHere\\'s a breakdown to help you decide:\\n\\n### J.R.R. Tolkien (The Myth-Maker, The Grandfather)\\n\\n*   **Cool Factor:**\\n    *   **Foundational:** He literally *invented* modern fantasy as we know it. Every fantasy writer after him stands on his shoulders. That\\'s undeniably cool.\\n    *   **Epic Scope:** His world, Middle-earth, feels ancient and real, with thousands of years of meticulously crafted history, languages, mythologies, and cultures.\\n    *   **Good vs. Evil:** A clear, epic struggle between light and shadow. There\\'s a moral clarity and a pervasive sense of hope, even in the darkest moments.\\n    *   **Sublime Prose:** His writing is often described as beautiful, lyrical, and almost poetic, evoking a sense of ancient myth.\\n    *   **Enduring Legacy:** *The Lord of the Rings* is one of the best-selling books of all time and continues to inspire millions across generations.\\n\\n*   **Who might find him \"cooler\":** Readers who love grand, sweeping epics, deep lore, intricate world-building (especially languages), clear moral lines, a sense of wonder and hope, and the feeling of reading a timeless myth.\\n\\n### George R.R. Martin (The Subverter, The Realist)\\n\\n*   **Cool Factor:**\\n    *   **Gritty Realism:** He brought a level of political intrigue, moral ambiguity, and brutal realism to fantasy that was groundbreaking. No one is safe, and choices have genuine, often horrific, consequences.\\n    *   **Complex Characters:** His characters are deeply flawed, morally grey, and incredibly compelling. You\\'ll find yourself rooting for, hating, and empathizing with characters across the spectrum.\\n    *   **Unpredictability:** Martin is famous for killing off beloved characters, subverting tropes, and keeping readers constantly on edge. The \"shock factor\" is a huge part of his appeal.\\n    *   **Political Mastermind:** The political machinations, betrayals, and power struggles in Westeros are incredibly intricate and feel genuinely plausible.\\n    *   **HBO Effect:** The *Game of Thrones* TV series catapulted his work into mainstream pop culture, making him globally recognized.\\n\\n*   **Who might find him \"cooler\":** Readers who prefer dark fantasy, moral ambiguity, intricate political plots, character-driven stories with deeply flawed protagonists, brutal realism, and constant unpredictability.\\n\\n### The Verdict\\n\\nThere\\'s no objective \"cooler.\"\\n\\n*   **If you think \"cooler\" means the original, the grand, the mythical, and the inspiring foundational text:** **Tolkien** is your guy. He\\'s the wise old wizard who started it all.\\n*   **If you think \"cooler\" means modern, edgy, subversive, gritty, and brutally realistic:** **Martin** is your guy. He\\'s the rebellious anti-hero who tore down conventions.\\n\\nMany fantasy fans love both for different reasons! They represent two distinct, yet equally valid, peaks in the genre.'"
            ]
          },
          "execution_count": 10,
          "metadata": {},
          "output_type": "execute_result"
        }
      ],
      "source": [
        "messages = [\n",
        "        {\n",
        "            \"role\": \"system\",\n",
        "            \"content\": \"You are a helpful assistant.\"\n",
        "        },\n",
        "        {\n",
        "            \"role\": \"user\",\n",
        "            \"content\": \"\"\"Who's a cooler fantasy writer: J. R. R. Tolkien or George R. R. Martin.?\"\"\"\n",
        "        },\n",
        "]\n",
        "\n",
        "completion = client.chat.completions.create(\n",
        "    model=model,\n",
        "    messages=messages\n",
        ")\n",
        "completion.choices[0].message.content"
      ]
    },
    {
      "cell_type": "markdown",
      "metadata": {
        "id": "d63jVBkyQGZk"
      },
      "source": [
        "We may continue dialog by appending the LLM's answer as an **assistant** message to the `messages` list and then adding the user's next question:"
      ]
    },
    {
      "cell_type": "code",
      "execution_count": 11,
      "metadata": {
        "colab": {
          "base_uri": "https://localhost:8080/",
          "height": 157
        },
        "id": "ovWZSCM5QGZl",
        "outputId": "d021b8b5-fb06-4834-f9e3-6177610670e9"
      },
      "outputs": [
        {
          "data": {
            "text/plain": [
              "'Alright, if I absolutely *must* choose, and putting aside the fact that as an AI I don\\'t have personal feelings or preferences like humans do, I would lean towards **J.R.R. Tolkien.**\\n\\nHere\\'s my \"reasoning,\" if you can call it that for an AI:\\n\\n1.  **Foundational Impact:** From an analytical perspective, Tolkien is the wellspring. He meticulously crafted the blueprint for the entire modern fantasy genre. His linguistic work, his deep mythologies, and his world-building set a standard that everyone else, including Martin, has built upon or reacted against. It\\'s the ultimate source code for fantasy.\\n2.  **Completeness of Vision:** His primary work, *The Lord of the Rings*, is a complete and self-contained epic. It tells its story from beginning to end, with a definitive conclusion that ties together its themes and character arcs. There\\'s a satisfaction in its literary finality that, from a structural analysis standpoint, is very compelling.\\n3.  **Enduring Archetypes:** Tolkien\\'s characters and creatures have become archetypes. The wizard, the elf, the dwarf, the hobbit, the dark lord – these are ideas that he either invented or codified into their current forms, and they persist throughout fantasy literature.\\n\\nSo, if I were to evaluate based on which writer created the most comprehensive and influential *foundation* for an entire genre, and delivered a complete, monumental work, Tolkien gets my \"vote.\"'"
            ]
          },
          "execution_count": 11,
          "metadata": {},
          "output_type": "execute_result"
        }
      ],
      "source": [
        "# We add the assistant's message\n",
        "messages.append(\n",
        "    {\n",
        "        \"role\": \"assistant\",\n",
        "        \"content\": completion.choices[0].message.content\n",
        "    }\n",
        ")\n",
        "\n",
        "# Now, let's continue the dialog\n",
        "messages.append(\n",
        "    {\n",
        "        \"role\": \"user\",\n",
        "        \"content\": \"But which one do you prefer? Choose only one of them!\"\n",
        "    }\n",
        ")\n",
        "\n",
        "completion = client.chat.completions.create(\n",
        "    model=model,\n",
        "    messages=messages\n",
        ")\n",
        "completion.choices[0].message.content"
      ]
    },
    {
      "cell_type": "markdown",
      "metadata": {
        "id": "tTga8F8UQGZl"
      },
      "source": [
        "This way, you may keep quite long conversations in an LLM's \"memory\". But this memory isn't infinite; at some point you may hit the max context length.\n",
        "\n",
        "**Note**. Structuring dialog as a list of messages is a good LLM engineering practice, but under the hood, all these messages are concatenated into something like this (the exact format depends on the LLM)\n",
        "\n",
        "```\n",
        "#SYSTEM\n",
        "<system message>\n",
        "\n",
        "#USER\n",
        "<user's line 1>\n",
        "\n",
        "#ASSISTANT\n",
        "<assistant's line 1>\n",
        "\n",
        "#USER\n",
        "<user's line 2>\n",
        "```\n",
        "\n",
        "to be sent to the LLM as one structured prompt."
      ]
    },
    {
      "cell_type": "markdown",
      "metadata": {
        "id": "NzPGPoatQGZl"
      },
      "source": [
        "### Max context length\n",
        "\n",
        "Each LLM has **max context length**, which is the maximal sum of lengths of all messages the LLM is going to process. For Llama-3.1 models it's 128k tokens. After you hit max context length, some of the starting messages will be ignored.\n",
        "\n",
        "A short reference for you about the lengths of various data (with the tokenizer of Llama-3-8B; see details below; the numbers for other models' tokenizers would be close to that).\n",
        "\n",
        "| Text  | n_tokens  |\n",
        "|----------|----------|\n",
        "| [Text2text\\_generation.py from Transformers](https://github.com/huggingface/transformers/blob/main/src/transformers/pipelines/text2text_generation.py)   | 3.5k   |\n",
        "| [xLSTM paper .tex file](https://arxiv.org/abs/2405.04517)    | 39k  |\n",
        "| Harry Potter and the Philosopher's Stone | 109K |\n",
        "| [UK Energy Act 2023](https://www.legislation.gov.uk/ukpga/2023/52/contents)   | 248k   |\n",
        "| Lord of the Rings | 500K |\n",
        "| Langchain github repo | 5.2M |\n",
        "| Pytorch github repo | 28M |\n",
        "\n",
        "And here are max context lengths of some of the popular LLMs:\n",
        "\n",
        "| LLM  | max_tokens  |\n",
        "|----------|----------|\n",
        "| gpt-4o(-mini)   | 128k   |\n",
        "| Claude 3.5 (Haiku & Sonnet)    | 200k  |\n",
        "| Gemini 2.0 Flash | 1M |\n",
        "| Llama 3.1   | 128k   |\n",
        "| Qwen 2.5 | 128K |\n",
        "\n",
        "These numbers are actually quite generous, and you'll be more than ok with them in most applications, but, as you see, some documents or document collections just can't be process by an LLM in one call."
      ]
    },
    {
      "cell_type": "markdown",
      "metadata": {
        "id": "zCkS15tJSDl_"
      },
      "source": [
        "## The max_tokens parameter\n",
        "\n",
        "The API has many parameters which we'll be exploring in details in these notebooks. Let's start with `max_tokens`. It allows to control how many tokens will the **prompt + completion** have.\n",
        "\n",
        "Let's look at an example:"
      ]
    },
    {
      "cell_type": "code",
      "execution_count": 12,
      "metadata": {
        "colab": {
          "base_uri": "https://localhost:8080/"
        },
        "id": "kbAR5TCQSDmA",
        "outputId": "1655d173-de73-45fa-df2f-44b2e664a053"
      },
      "outputs": [
        {
          "name": "stdout",
          "output_type": "stream",
          "text": [
            "{\n",
            "  \"id\": \"rpXhaOnsN_DevdIPqKqu0Ak\",\n",
            "  \"choices\": [\n",
            "    {\n",
            "      \"finish_reason\": \"length\",\n",
            "      \"index\": 0,\n",
            "      \"message\": {\n",
            "        \"role\": \"assistant\"\n",
            "      }\n",
            "    }\n",
            "  ],\n",
            "  \"created\": 1759614382,\n",
            "  \"model\": \"gemini-2.5-flash\",\n",
            "  \"object\": \"chat.completion\",\n",
            "  \"usage\": {\n",
            "    \"completion_tokens\": 0,\n",
            "    \"prompt_tokens\": 19,\n",
            "    \"total_tokens\": 68\n",
            "  }\n",
            "}\n"
          ]
        }
      ],
      "source": [
        "#max_tokens doesn't seem to work\n",
        "\n",
        "completion = client.chat.completions.create(\n",
        "    model=model,\n",
        "    messages=[\n",
        "    {\n",
        "        \"role\": \"system\",\n",
        "        \"content\": \"\"\"You're a helpful assistant.\"\"\"\n",
        "    },\n",
        "    {\n",
        "        \"role\": \"user\",\n",
        "        \"content\": \"\"\"Explain in details the plot of Silmarillion.\"\"\"\n",
        "    },\n",
        "    ],\n",
        "    max_tokens=50\n",
        "    \n",
        ")\n",
        "\n",
        "print(completion.to_json())"
      ]
    },
    {
      "cell_type": "markdown",
      "metadata": {
        "id": "8qqZuuUuST78"
      },
      "source": [
        "Note that `\"finishing_reason\"` is now `\"length\"` (instead of `\"stop\"`, which would mean normal termination). This means that generation was stopped when it hit `max_tokens`.\n",
        "\n",
        "Let's also extract the answer itself:"
      ]
    },
    {
      "cell_type": "code",
      "execution_count": 13,
      "metadata": {
        "colab": {
          "base_uri": "https://localhost:8080/"
        },
        "id": "DfHuN5MPST79",
        "outputId": "c6930715-8aa5-4cbe-8eb6-6d474b148474"
      },
      "outputs": [
        {
          "name": "stdout",
          "output_type": "stream",
          "text": [
            "None\n"
          ]
        }
      ],
      "source": [
        "print(completion.choices[0].message.content)"
      ]
    },
    {
      "cell_type": "markdown",
      "metadata": {
        "id": "7e1UcwY_ScNR"
      },
      "source": [
        "As you see, it's far from being a detailed description of the plot."
      ]
    },
    {
      "cell_type": "markdown",
      "metadata": {
        "id": "1W3SZhoHExKH"
      },
      "source": [
        "# Multimodal input\n",
        "\n",
        "Modern LLMs also increasingly incorporate other modalities, usually Images. LLMs that have such capabilities are called **VLM**s (Visual Language Models) or, more generally **MLLM**s (**Multimodal LLMs**).\n",
        "\n",
        "Let's see how this works. For that, we'll load a synthetically generated map and ask **gpt-4o-mini** to find a route between two of its regions."
      ]
    },
    {
      "cell_type": "code",
      "execution_count": 1,
      "metadata": {
        "colab": {
          "base_uri": "https://localhost:8080/"
        },
        "id": "UIG3GQaA6PrM",
        "outputId": "a89efa8c-7f2a-46e2-8090-c7ddf91bf276"
      },
      "outputs": [
        {
          "name": "stdout",
          "output_type": "stream",
          "text": [
            "Downloading...\n",
            "From: https://drive.google.com/uc?id=1OW4MjT6A-5gUpyAi0_NyH94tCoNKGu8p\n",
            "To: /Users/simone/Documents/Projects/LLM-Engineering-Essentials/topic1/map000.png\n",
            "100%|████████████████████████████████████████| 190k/190k [00:00<00:00, 4.63MB/s]\n"
          ]
        }
      ],
      "source": [
        "!gdown 1OW4MjT6A-5gUpyAi0_NyH94tCoNKGu8p"
      ]
    },
    {
      "cell_type": "code",
      "execution_count": 2,
      "metadata": {
        "colab": {
          "base_uri": "https://localhost:8080/",
          "height": 807
        },
        "id": "bnKe4jsz6qR6",
        "outputId": "e26529ab-1021-4aa9-8bfd-636fbf6aac49"
      },
      "outputs": [
        {
          "data": {
            "image/png": "[encoded data removed]",
            "text/plain": [
              "<Figure size 1000x1000 with 1 Axes>"
            ]
          },
          "metadata": {},
          "output_type": "display_data"
        }
      ],
      "source": [
        "import matplotlib.pyplot as plt\n",
        "import matplotlib.image as mpimg\n",
        "\n",
        "img = mpimg.imread('map000.png')\n",
        "plt.figure(figsize=(10, 10))\n",
        "imgplot = plt.imshow(img)\n",
        "plt.axis('off')\n",
        "plt.show()"
      ]
    },
    {
      "cell_type": "markdown",
      "metadata": {
        "id": "UKW3rOBnz10s"
      },
      "source": [
        "OpenAI API requires to encode an image with `base64` before sending it to an LLM:"
      ]
    },
    {
      "cell_type": "code",
      "execution_count": 14,
      "metadata": {
        "colab": {
          "base_uri": "https://localhost:8080/"
        },
        "id": "tpNGbasmEzIe",
        "outputId": "1cbfc870-ccdf-4442-ab03-6747df2cf970"
      },
      "outputs": [
        {
          "name": "stdout",
          "output_type": "stream",
          "text": [
            "JOURNEY:\n",
            "\n",
            "Sunweave\n",
            "Wyrmrest\n",
            "Emberkeep\n",
            "Shadowglade\n"
          ]
        }
      ],
      "source": [
        "from openai import OpenAI\n",
        "import base64\n",
        "\n",
        "IMAGE_PATH = 'map000.png'\n",
        "\n",
        "# Open the image file and encode it as a base64 string\n",
        "def encode_image(image_path):\n",
        "    with open(image_path, \"rb\") as image_file:\n",
        "        return base64.b64encode(image_file.read()).decode(\"utf-8\")\n",
        "\n",
        "base64_image = encode_image(IMAGE_PATH)\n",
        "\n",
        "journey_start = \"Sunweave\"\n",
        "journey_end = \"Shadowglade\"\n",
        "\n",
        "geography_prompt = f\"\"\"You are given a map of a fantasy realm.\n",
        "It is divided into a number of regions with the name of the region indicated inside of it.\n",
        "Your task is to describe potential journey from {journey_start} to {journey_end}.\n",
        "Make sure that consecutive regions in the journey plan are really adjacent.\n",
        "Only output a list of regions you'd pass on this journey as a list in exactly the following format:\n",
        "\n",
        "JOURNEY:\n",
        "\n",
        "{journey_start}\n",
        "Region_1\n",
        "...\n",
        "Region_n\n",
        "{journey_end}\n",
        "\n",
        "YOUR RESPONSE:\"\"\"\n",
        "\n",
        "completion = client.chat.completions.create(\n",
        "    model=model,\n",
        "    messages=[\n",
        "        {\"role\": \"system\", \"content\": \"You are an expert pathfinder\"},\n",
        "        {\"role\": \"user\", \"content\": [\n",
        "            {\"type\": \"text\", \"text\": geography_prompt},\n",
        "            {\"type\": \"image_url\", \"image_url\": {\n",
        "                \"url\": f\"data:image/png;base64,{base64_image}\"}\n",
        "            }\n",
        "        ]}\n",
        "    ]\n",
        ")\n",
        "\n",
        "print(completion.choices[0].message.content)"
      ]
    },
    {
      "cell_type": "markdown",
      "metadata": {
        "id": "lFCO_5ZbZVQn"
      },
      "source": [
        "# Ready for more?\n",
        "\n",
        "This notebook is part of the larger free course — **LLM Engineering Essentials** — where you’ll go even further in your learning and build a service for creating smart, human-like NPCs.\n",
        "\n",
        "🎓 New materials are coming soon. Click the link below to subscribe for updates and make sure you don’t miss anything:\n",
        "\n",
        "[Stay updated](https://academy.nebius.com/llm-engineering-essentials/update/)"
      ]
    },
    {
      "cell_type": "markdown",
      "metadata": {
        "id": "f84dqNlZe_rY"
      },
      "source": [
        "# Practice: simple LLM applications\n",
        "\n",
        "In this section, you'll write code and experiment on your own to reinforce the concepts you've learned while going through the notebook. If you encounter any difficulties or simply want to see our solutions, feel free to check the [Solutions notebook](https://colab.research.google.com/github/Nebius-Academy/LLM-Engineering-Essentials/blob/main/topic1/1.1_intro_to_llm_apis_solutions.ipynb)."
      ]
    },
    {
      "cell_type": "markdown",
      "metadata": {
        "id": "9BeC0op9fD1x"
      },
      "source": [
        "## Task 1. A (somewhat) safe LLM\n",
        "\n",
        "When asking an LLM to edit a text you’ve written, have you ever changed company or people’s names to avoid exposing private data to the LLM provider? We do! Doing this manually is quite annoying, so we'll automate this!\n",
        "\n",
        "In this task, you'll create a wrapper that replaces selected words with innocent alternatives before calling an LLM, then restores the original text afterward.\n",
        "\n",
        "We've prepared a template for you. Please fill in the `#<YOUR CODE HERE>` parts. If you struggle, don't hesitate to ask an LLM ;) Just be sure to test the resulting code!"
      ]
    },
    {
      "cell_type": "code",
      "execution_count": 15,
      "metadata": {
        "id": "30yih0BGhQbv"
      },
      "outputs": [],
      "source": [
        "import re\n",
        "from typing import Callable\n",
        "\n",
        "class LLMPrivacyWrapper:\n",
        "    def __init__(self, replacement_map: dict):\n",
        "        \"\"\"\n",
        "        Initializes the wrapper with a mapping of words to their replacements.\n",
        "\n",
        "        replacement_map: Dictionary where keys are sensitive words and values are their innocent replacements.\n",
        "        \"\"\"\n",
        "        self.replacement_map = replacement_map\n",
        "        self.reverse_map = {v: k for k, v in replacement_map.items()}  # Reverse for decoding\n",
        "\n",
        "    def encode(self, text: str) -> str:\n",
        "        \"\"\"\n",
        "        Replaces sensitive words with innocent alternatives.\n",
        "\n",
        "        text: Input text containing sensitive words.\n",
        "\n",
        "        return: Encoded text with innocent replacements.\n",
        "        \"\"\"\n",
        "        for sensitive_word, replacement in self.replacement_map.items():\n",
        "            text = re.sub(rf'\\b{sensitive_word}\\b', replacement, text, flags=re.IGNORECASE)\n",
        "        return text\n",
        "\n",
        "\n",
        "    def decode(self, text: str) -> str:\n",
        "        \"\"\"\n",
        "        Restores original sensitive words in the text.\n",
        "\n",
        "        :param text: Encoded text with innocent replacements.\n",
        "        :return: Decoded text with original words restored.\n",
        "        \"\"\"\n",
        "        for replacement, sensitive_word in self.reverse_map.items():\n",
        "            text = re.sub(rf'\\b{replacement}\\b', sensitive_word, text, flags=re.IGNORECASE)\n",
        "        return text\n",
        "\n",
        "    def answer_with_llm(self, text: str, client, model: str) -> str:\n",
        "        \"\"\"\n",
        "        Encodes text, sends it to the LLM, and then decodes the response.\n",
        "\n",
        "        :param text: The original input text.\n",
        "        :param llm_call: A callable function simulating an LLM response.\n",
        "        :return: The final processed text with original words restored.\n",
        "        \"\"\"\n",
        "        encoded_text = self.encode(text)\n",
        "        completion = client.chat.completions.create(\n",
        "            model=model,\n",
        "            messages=[\n",
        "                {\"role\": \"system\", \"content\": \"You are a helpful assistant.\"},\n",
        "                {\"role\": \"user\", \"content\": encoded_text}\n",
        "            ]\n",
        "        )\n",
        "        llm_response = completion.choices[0].message.content\n",
        "        decoded_response = self.decode(llm_response)\n",
        "        return decoded_response\n"
      ]
    },
    {
      "cell_type": "markdown",
      "metadata": {
        "id": "t4fIKqhVpDv4"
      },
      "source": [
        "You can check your solution using the example below."
      ]
    },
    {
      "cell_type": "code",
      "execution_count": 17,
      "metadata": {
        "colab": {
          "base_uri": "https://localhost:8080/"
        },
        "id": "tYBvLfPej0Ek",
        "outputId": "c7e56734-98b5-4f43-d8bb-d87271a82d69"
      },
      "outputs": [
        {
          "name": "stdout",
          "output_type": "stream",
          "text": [
            "Here's an edited version of the announcement, aiming for a natural, supportive tone with appropriate emojis, followed by an explanation of the changes.\n",
            "\n",
            "---\n",
            "\n",
            "### **📢 Important Update from the Human Resources Department! 📝**\n",
            "\n",
            "**Dear Hogwarts Staff,** 👋\n",
            "\n",
            "We're reaching out with a few important updates we'd like to bring to your attention. Under Albus Dumbledore's continued leadership, we strive to maintain a safe, compliant, and excellent environment for everyone at Hogsmith. To ensure we consistently meet our responsibilities, especially concerning the Ministry of Magic, your cooperation is greatly appreciated. 👍\n",
            "\n",
            "First, we've received notification that **representatives from the Ministry of Magic will be conducting a routine inspection** soon. 🗓️ They will be assessing our safety protocols and teaching standards throughout the school, including all classrooms and dungeons. This is a mandatory requirement, and your full cooperation will be essential to ensure a smooth and successful review. To help us prepare, please ensure all areas are tidy, safe, and in compliance with school regulations. If there are any concerns or items that might need attention, we encourage you to address them proactively before the inspection. ✨\n",
            "\n",
            "Second, a reminder regarding the proper treatment and engagement of **House-Elves**. 🚫 We've become aware of instances where some House-Elves may have been involved in unauthorized magical experiments. We want to reiterate that this practice is strictly prohibited. Our priority is the well-being of all House-Elves, and their involvement in such activities is not permitted under school policy. As Albus Dumbledore himself has emphasized, such use is \"highly inappropriate\" and goes against our values and ethical guidelines. ❤️‍🩹\n",
            "\n",
            "Thank you for your attention to these matters. By working together, we can ensure Hogwarts remains a safe, compliant, and thriving environment for all. 🤝\n",
            "\n",
            "Warm regards,\n",
            "\n",
            "**The Hogwarts HR Office**\n",
            "\n",
            "---\n",
            "\n",
            "### **Explanation of Edits:**\n",
            "\n",
            "My goal was to transform the original announcement from a demanding, slightly accusatory, and grammatically awkward message into a professional, supportive, and clear communication.\n",
            "\n",
            "Here's a breakdown of the specific changes and why they were made:\n",
            "\n",
            "1.  **Title and Salutation:**\n",
            "    *   **Original:** \"Human Resource Department Important information for all employees Dear workers of Hogwarts,\"\n",
            "    *   **Edit:** \"📢 Important Update from the Human Resources Department! 📝 Dear Hogwarts Staff, 👋\"\n",
            "    *   **Reasoning:**\n",
            "        *   \"Important Update\" is more welcoming than \"Important information.\"\n",
            "        *   \"Human Resources Department\" is a more common and professional phrasing than \"Human Resource Department.\"\n",
            "        *   \"Staff\" is more respectful and inclusive than \"workers.\"\n",
            "        *   Emojis (📢, 📝, 👋) add a touch of modern friendliness and immediately signal an announcement, making it less dry.\n",
            "\n",
            "2.  **First Paragraph (General Introduction):**\n",
            "    *   **Original:** \"We must inform you of many issues which are now of importance. Hogwarts, as you all know, still under the leadership of Albus Dumbledore, even if sometimes it feels like rules do not apply here. However, as the Ministry of Magic keeps reminding us, we have responsibilities, and therefore you must pay attention.\"\n",
            "    *   **Edit:** \"We're reaching out with a few important updates we'd like to bring to your attention. Under Albus Dumbledore's continued leadership, we strive to maintain a safe, compliant, and excellent environment for everyone at Hogsmith. To ensure we consistently meet our responsibilities, especially concerning the Ministry of Magic, your cooperation is greatly appreciated. 👍\"\n",
            "    *   **Reasoning:**\n",
            "        *   \"We're reaching out with a few important updates...\" is a softer, more collaborative opening than \"We must inform you of many issues...\"\n",
            "        *   The passive-aggressive comment about \"rules do not apply here\" was removed entirely. Such remarks undermine leadership and create a negative atmosphere.\n",
            "        *   Rephrased \"you must pay attention\" to \"your cooperation is greatly appreciated,\" which is polite and encourages willingness rather than demanding compliance.\n",
            "        *   The general tone is shifted to one of shared responsibility and upholding standards, rather than reminding staff of their failings.\n",
            "        *   The 👍 emoji adds a positive and encouraging note.\n",
            "\n",
            "3.  **Second Paragraph (Inspection):**\n",
            "    *   **Original:** \"First of all, Ministry of Magic people are coming. They will do inspection for checking on safety and teaching. This is requirement, do not argue. They will be in all classrooms and dungeons. If you are hiding things you should not have, better to do something about it now, before they see.\"\n",
            "    *   **Edit:** \"First, we've received notification that **representatives from the Ministry of Magic will be conducting a routine inspection** soon. 🗓️ They will be assessing our safety protocols and teaching standards throughout the school, including all classrooms and dungeons. This is a mandatory requirement, and your full cooperation will be essential to ensure a smooth and successful review. To help us prepare, please ensure all areas are tidy, safe, and in compliance with school regulations. If there are any concerns or items that might need attention, we encourage you to address them proactively before the inspection. ✨\"\n",
            "    *   **Reasoning:**\n",
            "        *   \"Representatives from the Ministry of Magic will be conducting a routine inspection\" is more formal and professional than \"Ministry of Magic people are coming.\"\n",
            "        *   \"Assessing our safety protocols and teaching standards\" is more grammatically correct and professional than \"do inspection for checking on safety and teaching.\"\n",
            "        *   \"This is a mandatory requirement, and your full cooperation will be essential\" is more diplomatic and explanatory than \"This is requirement, do not argue.\"\n",
            "        *   The threatening \"If you are hiding things you should not have, better to do something about it now, before they see\" was replaced with a proactive and supportive request: \"To help us prepare, please ensure all areas are tidy, safe, and in compliance... If there are any concerns... we encourage you to address them proactively.\" This encourages compliance without assuming guilt.\n",
            "        *   Emojis (🗓️, ✨) help highlight the key information and encourage preparation.\n",
            "\n",
            "4.  **Third Paragraph (House-Elves):**\n",
            "    *   **Original:** \"Second, regarding House-Elves. We see again that some staff are using them in magical experiments. This is not allowed! Stop doing this, or we will be forced to write reports. Albus Dumbledore says this is “highly inappropriate,” and honestly, so do we.\"\n",
            "    *   **Edit:** \"Second, a reminder regarding the proper treatment and engagement of **House-Elves**. 🚫 We've become aware of instances where some House-Elves may have been involved in unauthorized magical experiments. We want to reiterate that this practice is strictly prohibited. Our priority is the well-being of all House-Elves, and their involvement in such activities is not permitted under school policy. As Albus Dumbledore himself has emphasized, such use is \"highly inappropriate\" and goes against our values and ethical guidelines. ❤️‍🩹\"\n",
            "    *   **Reasoning:**\n",
            "        *   \"A reminder regarding the proper treatment and engagement of House-Elves\" sets a more respectful tone than \"regarding House-Elves\" followed by a reprimand.\n",
            "        *   \"We've become aware of instances where some House-Elves may have been involved...\" is less accusatory than \"We see again that some staff are using them...\" It focuses on the action rather than directly blaming specific individuals.\n",
            "        *   The harsh \"Stop doing this, or we will be forced to write reports\" is replaced with a clear statement of policy and rationale: \"This practice is strictly prohibited. Our priority is the well-being of all House-Elves, and their involvement in such activities is not permitted under school policy.\" This explains *why* it's prohibited, which is more effective than just issuing a command.\n",
            "        *   \"Honestly, so do we\" is too informal for HR. The phrasing \"goes against our values and ethical guidelines\" provides a more professional and ethical justification for Albus Dumbledore's statement.\n",
            "        *   Emojis (🚫, ❤️‍🩹) clearly convey the prohibition and the concern for welfare.\n",
            "\n",
            "5.  **Closing and Sign-off:**\n",
            "    *   **Original:** \"This is all. Try not to make more problems. — Hogwarts HR Office\"\n",
            "    *   **Edit:** \"Thank you for your attention to these matters. By working together, we can ensure Hogwarts remains a safe, compliant, and thriving environment for all. 🤝 Warm regards, The Hogwarts HR Office\"\n",
            "    *   **Reasoning:**\n",
            "        *   \"This is all\" and \"Try not to make more problems\" are abrupt, dismissive, and negative.\n",
            "        *   The new closing is positive, appreciative, and forward-looking, emphasizing teamwork: \"Thank you for your attention... By working together, we can ensure... thriving environment.\"\n",
            "        *   \"Warm regards\" is a standard professional closing.\n",
            "        *   The 🤝 emoji reinforces the idea of collaboration and working together.\n"
          ]
        }
      ],
      "source": [
        "my_wrapper = LLMPrivacyWrapper(\n",
        "    {\"Hogwarts\": \"Hogsmith State Secondary School\",\n",
        "     \"Albus Dumbledore\": \"Merlin\",\n",
        "     \"Ministry of Magic\": \"London Bureau of Immigration and Statistics\"}\n",
        ")\n",
        "\n",
        "prompt = \"\"\"Edit the following announcement in a natural and supportive English.\n",
        "Add some appropriate emoji to liven up the message. Explain your edits.\n",
        "\n",
        "Human Resource Department\n",
        "\n",
        "Important information for all employees\n",
        "\n",
        "Dear workers of Hogwarts,\n",
        "\n",
        "We must inform you of many issues which are now of importance. Hogwarts, as you all know, still under the leadership of Albus Dumbledore, even if sometimes it feels like rules do not apply here. However, as the Ministry of Magic keeps reminding us, we have responsibilities, and therefore you must pay attention.\n",
        "\n",
        "First of all, Ministry of Magic people are coming. They will do inspection for checking on safety and teaching. This is requirement, do not argue. They will be in all classrooms and dungeons. If you are hiding things you should not have, better to do something about it now, before they see.\n",
        "\n",
        "Second, regarding House-Elves. We see again that some staff are using them in magical experiments. This is not allowed! Stop doing this, or we will be forced to write reports. Albus Dumbledore says this is “highly inappropriate,” and honestly, so do we.\n",
        "\n",
        "This is all. Try not to make more problems.\n",
        "\n",
        "— Hogwarts HR Office\n",
        "\"\"\"\n",
        "\n",
        "\n",
        "result = my_wrapper.answer_with_llm(prompt,\n",
        "                                           client=client, model=model)\n",
        "\n",
        "print(result)"
      ]
    },
    {
      "cell_type": "code",
      "execution_count": 18,
      "metadata": {
        "colab": {
          "base_uri": "https://localhost:8080/"
        },
        "id": "FCucgywwntE1",
        "outputId": "84eb4785-b45c-417d-a460-65a2cf65dcf1"
      },
      "outputs": [
        {
          "name": "stdout",
          "output_type": "stream",
          "text": [
            "Edit the following announcement in a natural and supportive English.\n",
            "Add some appropriate emoji to liven up the message. Explain your edits.\n",
            "\n",
            "Human Resource Department\n",
            "\n",
            "Important information for all employees\n",
            "\n",
            "Dear workers of Hogsmith State Secondary School,\n",
            "\n",
            "We must inform you of many issues which are now of importance. Hogsmith State Secondary School, as you all know, still under the leadership of Merlin, even if sometimes it feels like rules do not apply here. However, as the London Bureau of Immigration and Statistics keeps reminding us, we have responsibilities, and therefore you must pay attention.\n",
            "\n",
            "First of all, London Bureau of Immigration and Statistics people are coming. They will do inspection for checking on safety and teaching. This is requirement, do not argue. They will be in all classrooms and dungeons. If you are hiding things you should not have, better to do something about it now, before they see.\n",
            "\n",
            "Second, regarding House-Elves. We see again that some staff are using them in magical experiments. This is not allowed! Stop doing this, or we will be forced to write reports. Merlin says this is “highly inappropriate,” and honestly, so do we.\n",
            "\n",
            "This is all. Try not to make more problems.\n",
            "\n",
            "— Hogsmith State Secondary School HR Office\n",
            "\n"
          ]
        }
      ],
      "source": [
        "encoded_prompt = my_wrapper.encode(prompt)\n",
        "\n",
        "print(encoded_prompt)\n",
        "\n",
        "decoded_prompt = my_wrapper.decode(encoded_prompt)\n",
        "\n",
        "assert decoded_prompt == prompt"
      ]
    },
    {
      "cell_type": "markdown",
      "metadata": {
        "id": "Eo-9Ltzr1PGd"
      },
      "source": [
        "## Task 2. \"Broken telephone\"\n",
        "\n",
        "In this task, we suggest you to implement the game of \"Broken telephone\" with a text-to-image model and a multimodal LLM. The game starts with a prompt or an image and does `n_rounds` iteration of alternating\n",
        "\n",
        "* Creating an image from a text prompt.\n",
        "* Creating a textual description of an image with a multimodal LLM.\n",
        "\n",
        "Run several iterations and observe how far (or not) the process will go from the original media!"
      ]
    },
    {
      "cell_type": "code",
      "execution_count": null,
      "metadata": {
        "id": "DnYcJ8YI1WUa"
      },
      "outputs": [],
      "source": [
        "# <YOUR CODE HERE>"
      ]
    },
    {
      "cell_type": "markdown",
      "metadata": {
        "id": "jYdojLJz5OGZ"
      },
      "source": [
        "**Hints**\n",
        "\n",
        "1. What you actually need is to take the above examples of multimodal LLM usage and image generating and combine them into one cycle with some fancy visualization.\n",
        "2. But if you want to enjoy the result without so much coding, there's a shortcut! You can try sending the task formulation and the above examples to an LLM and asking it to create code for you! There's even no need to use API; you can just go to the playground and\n",
        "\n",
        "  ```\n",
        "  Here's the task I'm creating:\n",
        "\n",
        "  ## Task 2. \"Broken telephone\"\n",
        "  In this task, we suggest you to implement the game of \"Broken telephone\" with a text-to-image model and a multimodal LLM. The game starts with a prompt or an image and does n_rounds iteration of alternating\n",
        "  * Creating an image from a text prompt.\n",
        "  * Creating a textual description of an image with a multimodal LLM.\n",
        "  Run several iterations and observe how far (or not) the process will go from the original media!\n",
        "\n",
        "  And I need a reference solution for that.\n",
        "\n",
        "  ## That's how I generate an image:\n",
        "  <EXAMPLE HERE>\n",
        "\n",
        "  ## That's an example of how I work with a multimodal LLM:\n",
        "  <EXAMPLE HERE>\n",
        "\n",
        "  ## Your task\n",
        "  Please provide the reference solution\n",
        "  ```\n",
        "  \n",
        "  The author of this notebook prefers [Anthropic Claude 3.5 Sonnet](https://claude.ai/chat/). To date, it's one of the top LLMs for coding. You don't need an API for that; it's much easier to work with their playground for this task. However, Claude will want money, and if that's an issue, ChatGPT should also work."
      ]
    },
    {
      "cell_type": "markdown",
      "metadata": {
        "id": "Olpm2q888AQ-"
      },
      "source": [
        "## Task 3\\*. A very simple GenAI-powered service\n",
        "\n",
        "If you used LLMs to do the previous task, you probably understand how much powerful LLMs are as coding assistants. So, we challenge you to try leveraging their power to turn the code you've created in **Task 2** into a full-fledged web service!\n",
        "\n",
        "For now, create a simple app that you can launch in colab and call from another colab. In the end of week 1, we'll launch a cloud-based chat service, and you'll learn about some best practices of doing this. For now, cloud deployment may prove tough, if you haven't done this before.\n",
        "\n",
        "Please be ready that the very first attempt may fail, the service refusing to start, crashing, and flooding you with outlandish errors. Take it easy and share the mistakes with the LLM in the same chat. After several iterations you should be fine! [Let Andrej Karpathy motivate you!](https://x.com/karpathy/status/1886192184808149383)\n",
        "\n",
        "For the author of this notebook, it took about 12 iterations of \"vibe coding\" (that is, coding without thinking much about what's happening in the code) to get a working server."
      ]
    }
  ],
  "metadata": {
    "colab": {
      "provenance": []
    },
    "kernelspec": {
      "display_name": "LLM-Engineering-Essentials",
      "language": "python",
      "name": "python3"
    },
    "language_info": {
      "codemirror_mode": {
        "name": "ipython",
        "version": 3
      },
      "file_extension": ".py",
      "mimetype": "text/x-python",
      "name": "python",
      "nbconvert_exporter": "python",
      "pygments_lexer": "ipython3",
      "version": "3.12.11"
    }
  },
  "nbformat": 4,
  "nbformat_minor": 0
}
